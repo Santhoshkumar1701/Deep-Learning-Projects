{
 "cells": [
  {
   "cell_type": "code",
   "execution_count": 1,
   "id": "f3df4317",
   "metadata": {},
   "outputs": [
    {
     "name": "stdout",
     "output_type": "stream",
     "text": [
      "WARNING:tensorflow:From D:\\anaconda\\Lib\\site-packages\\keras\\src\\losses.py:2976: The name tf.losses.sparse_softmax_cross_entropy is deprecated. Please use tf.compat.v1.losses.sparse_softmax_cross_entropy instead.\n",
      "\n"
     ]
    }
   ],
   "source": [
    "from tensorflow.keras.models import Sequential\n",
    "from tensorflow.keras.layers import Dense\n",
    "from tensorflow.keras.layers import Dropout\n",
    "from tensorflow.keras.layers import Flatten\n",
    "from tensorflow.keras.constraints import MaxNorm\n",
    "from tensorflow.keras.optimizers import SGD\n",
    "from tensorflow.keras.layers import Conv2D\n",
    "from tensorflow.keras.layers import MaxPooling2D\n",
    "from tensorflow.keras.utils import to_categorical\n",
    "import tensorflow as tf"
   ]
  },
  {
   "cell_type": "markdown",
   "id": "9aa5c5d3",
   "metadata": {},
   "source": [
    "# Image resizing"
   ]
  },
  {
   "cell_type": "code",
   "execution_count": 2,
   "id": "f260b9f9",
   "metadata": {},
   "outputs": [],
   "source": [
    "from tensorflow.keras.preprocessing.image import ImageDataGenerator\n",
    "train_datagen=ImageDataGenerator(rescale=1./255,\n",
    "                                shear_range=0.2,\n",
    "                                zoom_range=0.2,\n",
    "                                horizontal_flip=True)\n",
    "test_datagen=ImageDataGenerator(rescale=1./255)"
   ]
  },
  {
   "cell_type": "code",
   "execution_count": 3,
   "id": "f754439f",
   "metadata": {},
   "outputs": [
    {
     "name": "stdout",
     "output_type": "stream",
     "text": [
      "Found 330 images belonging to 4 classes.\n"
     ]
    }
   ],
   "source": [
    "training_set=train_datagen.flow_from_directory('D:/Prompt Engineering/Deep Learning/cnn duplicate/Train',\n",
    "                                               target_size=(64,64),\n",
    "                                               batch_size=32,\n",
    "                                              class_mode='categorical')"
   ]
  },
  {
   "cell_type": "code",
   "execution_count": 4,
   "id": "b9631ac6",
   "metadata": {},
   "outputs": [
    {
     "name": "stdout",
     "output_type": "stream",
     "text": [
      "Found 330 images belonging to 4 classes.\n"
     ]
    }
   ],
   "source": [
    "test_set=train_datagen.flow_from_directory('D:/Prompt Engineering/Deep Learning/cnn duplicate/Test',\n",
    "                                               target_size=(64,64),\n",
    "                                               batch_size=32,\n",
    "                                              class_mode='categorical')"
   ]
  },
  {
   "cell_type": "markdown",
   "id": "f0328d50",
   "metadata": {},
   "source": [
    "# Defining Neural Network Configuration"
   ]
  },
  {
   "cell_type": "code",
   "execution_count": 5,
   "id": "e726d958",
   "metadata": {},
   "outputs": [
    {
     "name": "stdout",
     "output_type": "stream",
     "text": [
      "WARNING:tensorflow:From D:\\anaconda\\Lib\\site-packages\\keras\\src\\backend.py:873: The name tf.get_default_graph is deprecated. Please use tf.compat.v1.get_default_graph instead.\n",
      "\n",
      "WARNING:tensorflow:From D:\\anaconda\\Lib\\site-packages\\keras\\src\\layers\\pooling\\max_pooling2d.py:161: The name tf.nn.max_pool is deprecated. Please use tf.nn.max_pool2d instead.\n",
      "\n",
      "WARNING:tensorflow:From D:\\anaconda\\Lib\\site-packages\\keras\\src\\optimizers\\__init__.py:309: The name tf.train.Optimizer is deprecated. Please use tf.compat.v1.train.Optimizer instead.\n",
      "\n"
     ]
    }
   ],
   "source": [
    "classifier=tf.keras.models.Sequential()\n",
    "classifier.add(Conv2D(32,(3,3),input_shape=(64,64,3),activation='relu'))\n",
    "classifier.add(MaxPooling2D(pool_size=(2,2)))\n",
    "classifier.add(Conv2D(32,(3,3),activation='relu'))\n",
    "classifier.add(MaxPooling2D(pool_size=(2,2)))\n",
    "classifier.add(Flatten())\n",
    "classifier.add(Dense(units=128,activation='relu'))\n",
    "classifier.add(Dense(units=4,activation='sigmoid'))\n",
    "classifier.compile(optimizer='adam',loss='categorical_crossentropy',metrics=['accuracy'])"
   ]
  },
  {
   "cell_type": "markdown",
   "id": "6499fb2e",
   "metadata": {},
   "source": [
    "# Neural Network Training"
   ]
  },
  {
   "cell_type": "code",
   "execution_count": 6,
   "id": "1ff472cc",
   "metadata": {},
   "outputs": [
    {
     "name": "stderr",
     "output_type": "stream",
     "text": [
      "C:\\python\\Modules\\ipykernel_2060\\2468420828.py:1: UserWarning: `Model.fit_generator` is deprecated and will be removed in a future version. Please use `Model.fit`, which supports generators.\n",
      "  classifier.fit_generator(training_set,\n"
     ]
    },
    {
     "name": "stdout",
     "output_type": "stream",
     "text": [
      "Epoch 1/60\n",
      "WARNING:tensorflow:From D:\\anaconda\\Lib\\site-packages\\keras\\src\\utils\\tf_utils.py:492: The name tf.ragged.RaggedTensorValue is deprecated. Please use tf.compat.v1.ragged.RaggedTensorValue instead.\n",
      "\n",
      "WARNING:tensorflow:From D:\\anaconda\\Lib\\site-packages\\keras\\src\\engine\\base_layer_utils.py:384: The name tf.executing_eagerly_outside_functions is deprecated. Please use tf.compat.v1.executing_eagerly_outside_functions instead.\n",
      "\n",
      "10/10 [==============================] - ETA: 0s - loss: 1.6151 - accuracy: 0.2383WARNING:tensorflow:Your input ran out of data; interrupting training. Make sure that your dataset or generator can generate at least `steps_per_epoch * epochs` batches (in this case, 80 batches). You may need to use the repeat() function when building your dataset.\n",
      "10/10 [==============================] - 24s 2s/step - loss: 1.6151 - accuracy: 0.2383 - val_loss: 1.3623 - val_accuracy: 0.2758\n",
      "Epoch 2/60\n",
      "10/10 [==============================] - 2s 159ms/step - loss: 1.3425 - accuracy: 0.3960\n",
      "Epoch 3/60\n",
      "10/10 [==============================] - 1s 135ms/step - loss: 1.1983 - accuracy: 0.5537\n",
      "Epoch 4/60\n",
      "10/10 [==============================] - 1s 131ms/step - loss: 0.9941 - accuracy: 0.5772\n",
      "Epoch 5/60\n",
      "10/10 [==============================] - 1s 135ms/step - loss: 0.8406 - accuracy: 0.6779\n",
      "Epoch 6/60\n",
      "10/10 [==============================] - 1s 143ms/step - loss: 0.6914 - accuracy: 0.7750\n",
      "Epoch 7/60\n",
      "10/10 [==============================] - 2s 156ms/step - loss: 0.6031 - accuracy: 0.7752\n",
      "Epoch 8/60\n",
      "10/10 [==============================] - 1s 134ms/step - loss: 0.6187 - accuracy: 0.7752\n",
      "Epoch 9/60\n",
      "10/10 [==============================] - 1s 132ms/step - loss: 0.5238 - accuracy: 0.8121\n",
      "Epoch 10/60\n",
      "10/10 [==============================] - 1s 135ms/step - loss: 0.4801 - accuracy: 0.8490\n",
      "Epoch 11/60\n",
      "10/10 [==============================] - 1s 143ms/step - loss: 0.4072 - accuracy: 0.8531\n",
      "Epoch 12/60\n",
      "10/10 [==============================] - 1s 133ms/step - loss: 0.4001 - accuracy: 0.8758\n",
      "Epoch 13/60\n",
      "10/10 [==============================] - 1s 138ms/step - loss: 0.3756 - accuracy: 0.8658\n",
      "Epoch 14/60\n",
      "10/10 [==============================] - 1s 135ms/step - loss: 0.3579 - accuracy: 0.8758\n",
      "Epoch 15/60\n",
      "10/10 [==============================] - 2s 157ms/step - loss: 0.3392 - accuracy: 0.8859\n",
      "Epoch 16/60\n",
      "10/10 [==============================] - 1s 135ms/step - loss: 0.3192 - accuracy: 0.8826\n",
      "Epoch 17/60\n",
      "10/10 [==============================] - 1s 144ms/step - loss: 0.2865 - accuracy: 0.8844\n",
      "Epoch 18/60\n",
      "10/10 [==============================] - 1s 133ms/step - loss: 0.2193 - accuracy: 0.9396\n",
      "Epoch 19/60\n",
      "10/10 [==============================] - 1s 134ms/step - loss: 0.2143 - accuracy: 0.9262\n",
      "Epoch 20/60\n",
      "10/10 [==============================] - 1s 144ms/step - loss: 0.1964 - accuracy: 0.9344\n",
      "Epoch 21/60\n",
      "10/10 [==============================] - 1s 146ms/step - loss: 0.1601 - accuracy: 0.9597\n",
      "Epoch 22/60\n",
      "10/10 [==============================] - 1s 133ms/step - loss: 0.2324 - accuracy: 0.9161\n",
      "Epoch 23/60\n",
      "10/10 [==============================] - 1s 136ms/step - loss: 0.2121 - accuracy: 0.9295\n",
      "Epoch 24/60\n",
      "10/10 [==============================] - 1s 144ms/step - loss: 0.1432 - accuracy: 0.9531\n",
      "Epoch 25/60\n",
      "10/10 [==============================] - 1s 135ms/step - loss: 0.2065 - accuracy: 0.9295\n",
      "Epoch 26/60\n",
      "10/10 [==============================] - 1s 143ms/step - loss: 0.2276 - accuracy: 0.9156\n",
      "Epoch 27/60\n",
      "10/10 [==============================] - 1s 144ms/step - loss: 0.1462 - accuracy: 0.9531\n",
      "Epoch 28/60\n",
      "10/10 [==============================] - 1s 145ms/step - loss: 0.1231 - accuracy: 0.9631\n",
      "Epoch 29/60\n",
      "10/10 [==============================] - 1s 135ms/step - loss: 0.1205 - accuracy: 0.9698\n",
      "Epoch 30/60\n",
      "10/10 [==============================] - 2s 153ms/step - loss: 0.0906 - accuracy: 0.9866\n",
      "Epoch 31/60\n",
      "10/10 [==============================] - 2s 149ms/step - loss: 0.1554 - accuracy: 0.9564\n",
      "Epoch 32/60\n",
      "10/10 [==============================] - 2s 160ms/step - loss: 0.1118 - accuracy: 0.9631\n",
      "Epoch 33/60\n",
      "10/10 [==============================] - 2s 160ms/step - loss: 0.1092 - accuracy: 0.9698\n",
      "Epoch 34/60\n",
      "10/10 [==============================] - 1s 142ms/step - loss: 0.1179 - accuracy: 0.9664\n",
      "Epoch 35/60\n",
      "10/10 [==============================] - 1s 134ms/step - loss: 0.1595 - accuracy: 0.9430\n",
      "Epoch 36/60\n",
      "10/10 [==============================] - 1s 153ms/step - loss: 0.1032 - accuracy: 0.9698\n",
      "Epoch 37/60\n",
      "10/10 [==============================] - 1s 145ms/step - loss: 0.1152 - accuracy: 0.9631\n",
      "Epoch 38/60\n",
      "10/10 [==============================] - 2s 171ms/step - loss: 0.0931 - accuracy: 0.9781\n",
      "Epoch 39/60\n",
      "10/10 [==============================] - 1s 133ms/step - loss: 0.0684 - accuracy: 0.9799\n",
      "Epoch 40/60\n",
      "10/10 [==============================] - 1s 136ms/step - loss: 0.0735 - accuracy: 0.9799\n",
      "Epoch 41/60\n",
      "10/10 [==============================] - 1s 137ms/step - loss: 0.0788 - accuracy: 0.9765\n",
      "Epoch 42/60\n",
      "10/10 [==============================] - 1s 136ms/step - loss: 0.0668 - accuracy: 0.9765\n",
      "Epoch 43/60\n",
      "10/10 [==============================] - 1s 133ms/step - loss: 0.1211 - accuracy: 0.9597\n",
      "Epoch 44/60\n",
      "10/10 [==============================] - 1s 134ms/step - loss: 0.1191 - accuracy: 0.9530\n",
      "Epoch 45/60\n",
      "10/10 [==============================] - 2s 148ms/step - loss: 0.0606 - accuracy: 0.9866\n",
      "Epoch 46/60\n",
      "10/10 [==============================] - 1s 140ms/step - loss: 0.0661 - accuracy: 0.9799\n",
      "Epoch 47/60\n",
      "10/10 [==============================] - 1s 147ms/step - loss: 0.0793 - accuracy: 0.9765\n",
      "Epoch 48/60\n",
      "10/10 [==============================] - 2s 162ms/step - loss: 0.0676 - accuracy: 0.9832\n",
      "Epoch 49/60\n",
      "10/10 [==============================] - 1s 134ms/step - loss: 0.0493 - accuracy: 0.9866\n",
      "Epoch 50/60\n",
      "10/10 [==============================] - 1s 140ms/step - loss: 0.0237 - accuracy: 1.0000\n",
      "Epoch 51/60\n",
      "10/10 [==============================] - 2s 160ms/step - loss: 0.0360 - accuracy: 0.9899\n",
      "Epoch 52/60\n",
      "10/10 [==============================] - 1s 132ms/step - loss: 0.0727 - accuracy: 0.9698\n",
      "Epoch 53/60\n",
      "10/10 [==============================] - 1s 146ms/step - loss: 0.0294 - accuracy: 0.9933\n",
      "Epoch 54/60\n",
      "10/10 [==============================] - 1s 126ms/step - loss: 0.0518 - accuracy: 0.9933\n",
      "Epoch 55/60\n",
      "10/10 [==============================] - 1s 140ms/step - loss: 0.0342 - accuracy: 0.9933\n",
      "Epoch 56/60\n",
      "10/10 [==============================] - 1s 150ms/step - loss: 0.0432 - accuracy: 0.9899\n",
      "Epoch 57/60\n",
      "10/10 [==============================] - 1s 141ms/step - loss: 0.0598 - accuracy: 0.9799\n",
      "Epoch 58/60\n",
      "10/10 [==============================] - 1s 142ms/step - loss: 0.1281 - accuracy: 0.9530\n",
      "Epoch 59/60\n",
      "10/10 [==============================] - 1s 136ms/step - loss: 0.1395 - accuracy: 0.9631\n",
      "Epoch 60/60\n",
      "10/10 [==============================] - 1s 134ms/step - loss: 0.1324 - accuracy: 0.9597\n"
     ]
    },
    {
     "data": {
      "text/plain": [
       "<keras.src.callbacks.History at 0x210d9446dd0>"
      ]
     },
     "execution_count": 6,
     "metadata": {},
     "output_type": "execute_result"
    }
   ],
   "source": [
    "classifier.fit_generator(training_set,\n",
    "                        steps_per_epoch=10,\n",
    "                        epochs=60,\n",
    "                        validation_data=test_set,\n",
    "                        validation_steps=80)"
   ]
  },
  {
   "cell_type": "markdown",
   "id": "f4b0ba1e",
   "metadata": {},
   "source": [
    "# Validating the Trained Neural Network"
   ]
  },
  {
   "cell_type": "code",
   "execution_count": 7,
   "id": "ae73fa5e",
   "metadata": {},
   "outputs": [
    {
     "name": "stdout",
     "output_type": "stream",
     "text": [
      "1/1 [==============================] - 0s 406ms/step\n"
     ]
    }
   ],
   "source": [
    "import numpy as np\n",
    "from tensorflow.keras.preprocessing import image\n",
    "test_image = \\\n",
    "    image.load_img('D:\\Prompt Engineering\\Deep Learning\\cnn duplicate\\Testing\\starfish\\image_0001.jpg'\n",
    "                   , target_size=(64, 64))\n",
    "test_image = image.img_to_array(test_image)\n",
    "test_image = np.expand_dims(test_image, axis=0)\n",
    "result = classifier.predict(test_image)"
   ]
  },
  {
   "cell_type": "code",
   "execution_count": 8,
   "id": "dd3372ff",
   "metadata": {},
   "outputs": [
    {
     "name": "stdout",
     "output_type": "stream",
     "text": [
      "[[1. 0. 0. 1.]]\n"
     ]
    }
   ],
   "source": [
    "print(result)"
   ]
  },
  {
   "cell_type": "code",
   "execution_count": 9,
   "id": "a0b14d13",
   "metadata": {},
   "outputs": [
    {
     "name": "stdout",
     "output_type": "stream",
     "text": [
      "1/1 [==============================] - 0s 15ms/step\n"
     ]
    }
   ],
   "source": [
    "import numpy as np\n",
    "from tensorflow.keras.preprocessing import image\n",
    "test_image = \\\n",
    "    image.load_img('D:\\Prompt Engineering\\Deep Learning\\cnn duplicate\\Testing\\helicopter\\image_0004.jpg'\n",
    "                   , target_size=(64, 64))\n",
    "test_image = image.img_to_array(test_image)\n",
    "test_image = np.expand_dims(test_image, axis=0)\n",
    "result = classifier.predict(test_image)"
   ]
  },
  {
   "cell_type": "code",
   "execution_count": 10,
   "id": "1b879069",
   "metadata": {},
   "outputs": [
    {
     "name": "stdout",
     "output_type": "stream",
     "text": [
      "[[1. 1. 0. 0.]]\n"
     ]
    }
   ],
   "source": [
    "print(result)"
   ]
  }
 ],
 "metadata": {
  "kernelspec": {
   "display_name": "Python 3 (ipykernel)",
   "language": "python",
   "name": "python3"
  },
  "language_info": {
   "codemirror_mode": {
    "name": "ipython",
    "version": 3
   },
   "file_extension": ".py",
   "mimetype": "text/x-python",
   "name": "python",
   "nbconvert_exporter": "python",
   "pygments_lexer": "ipython3",
   "version": "3.9.16"
  }
 },
 "nbformat": 4,
 "nbformat_minor": 5
}
